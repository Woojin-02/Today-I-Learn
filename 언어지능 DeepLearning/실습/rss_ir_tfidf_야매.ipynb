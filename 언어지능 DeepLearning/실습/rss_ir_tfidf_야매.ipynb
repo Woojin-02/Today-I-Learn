{
  "nbformat": 4,
  "nbformat_minor": 0,
  "metadata": {
    "colab": {
      "provenance": []
    },
    "kernelspec": {
      "name": "python3",
      "display_name": "Python 3"
    },
    "language_info": {
      "name": "python"
    }
  },
  "cells": [
    {
      "cell_type": "code",
      "execution_count": 1,
      "metadata": {
        "colab": {
          "base_uri": "https://localhost:8080/"
        },
        "id": "3q5w0Ti71TPR",
        "outputId": "ff290c77-17ad-428b-c2f1-031f70ed3d85"
      },
      "outputs": [
        {
          "output_type": "stream",
          "name": "stdout",
          "text": [
            "Collecting feedparser\n",
            "  Downloading feedparser-6.0.10-py3-none-any.whl (81 kB)\n",
            "\u001b[?25l     \u001b[90m━━━━━━━━━━━━━━━━━━━━━━━━━━━━━━━━━━━━━━━━\u001b[0m \u001b[32m0.0/81.1 kB\u001b[0m \u001b[31m?\u001b[0m eta \u001b[36m-:--:--\u001b[0m\r\u001b[2K     \u001b[91m━━━━━━━━━━━━━━━━━━━━━━━━━━━━━━━━━━━\u001b[0m\u001b[90m╺\u001b[0m\u001b[90m━━━━\u001b[0m \u001b[32m71.7/81.1 kB\u001b[0m \u001b[31m2.3 MB/s\u001b[0m eta \u001b[36m0:00:01\u001b[0m\r\u001b[2K     \u001b[90m━━━━━━━━━━━━━━━━━━━━━━━━━━━━━━━━━━━━━━━━\u001b[0m \u001b[32m81.1/81.1 kB\u001b[0m \u001b[31m2.0 MB/s\u001b[0m eta \u001b[36m0:00:00\u001b[0m\n",
            "\u001b[?25hCollecting sgmllib3k (from feedparser)\n",
            "  Downloading sgmllib3k-1.0.0.tar.gz (5.8 kB)\n",
            "  Preparing metadata (setup.py) ... \u001b[?25l\u001b[?25hdone\n",
            "Building wheels for collected packages: sgmllib3k\n",
            "  Building wheel for sgmllib3k (setup.py) ... \u001b[?25l\u001b[?25hdone\n",
            "  Created wheel for sgmllib3k: filename=sgmllib3k-1.0.0-py3-none-any.whl size=6047 sha256=b9341de6d973b2209321910e04777dbe570bf438bb62460aac24e98561793e37\n",
            "  Stored in directory: /root/.cache/pip/wheels/f0/69/93/a47e9d621be168e9e33c7ce60524393c0b92ae83cf6c6e89c5\n",
            "Successfully built sgmllib3k\n",
            "Installing collected packages: sgmllib3k, feedparser\n",
            "Successfully installed feedparser-6.0.10 sgmllib3k-1.0.0\n",
            "Collecting newspaper3k\n",
            "  Downloading newspaper3k-0.2.8-py3-none-any.whl (211 kB)\n",
            "\u001b[2K     \u001b[90m━━━━━━━━━━━━━━━━━━━━━━━━━━━━━━━━━━━━━━━\u001b[0m \u001b[32m211.1/211.1 kB\u001b[0m \u001b[31m3.2 MB/s\u001b[0m eta \u001b[36m0:00:00\u001b[0m\n",
            "\u001b[?25hRequirement already satisfied: beautifulsoup4>=4.4.1 in /usr/local/lib/python3.10/dist-packages (from newspaper3k) (4.11.2)\n",
            "Requirement already satisfied: Pillow>=3.3.0 in /usr/local/lib/python3.10/dist-packages (from newspaper3k) (9.4.0)\n",
            "Requirement already satisfied: PyYAML>=3.11 in /usr/local/lib/python3.10/dist-packages (from newspaper3k) (6.0.1)\n",
            "Collecting cssselect>=0.9.2 (from newspaper3k)\n",
            "  Downloading cssselect-1.2.0-py2.py3-none-any.whl (18 kB)\n",
            "Requirement already satisfied: lxml>=3.6.0 in /usr/local/lib/python3.10/dist-packages (from newspaper3k) (4.9.3)\n",
            "Requirement already satisfied: nltk>=3.2.1 in /usr/local/lib/python3.10/dist-packages (from newspaper3k) (3.8.1)\n",
            "Requirement already satisfied: requests>=2.10.0 in /usr/local/lib/python3.10/dist-packages (from newspaper3k) (2.31.0)\n",
            "Requirement already satisfied: feedparser>=5.2.1 in /usr/local/lib/python3.10/dist-packages (from newspaper3k) (6.0.10)\n",
            "Collecting tldextract>=2.0.1 (from newspaper3k)\n",
            "  Downloading tldextract-3.6.0-py3-none-any.whl (97 kB)\n",
            "\u001b[2K     \u001b[90m━━━━━━━━━━━━━━━━━━━━━━━━━━━━━━━━━━━━━━━━\u001b[0m \u001b[32m97.4/97.4 kB\u001b[0m \u001b[31m8.0 MB/s\u001b[0m eta \u001b[36m0:00:00\u001b[0m\n",
            "\u001b[?25hCollecting feedfinder2>=0.0.4 (from newspaper3k)\n",
            "  Downloading feedfinder2-0.0.4.tar.gz (3.3 kB)\n",
            "  Preparing metadata (setup.py) ... \u001b[?25l\u001b[?25hdone\n",
            "Collecting jieba3k>=0.35.1 (from newspaper3k)\n",
            "  Downloading jieba3k-0.35.1.zip (7.4 MB)\n",
            "\u001b[2K     \u001b[90m━━━━━━━━━━━━━━━━━━━━━━━━━━━━━━━━━━━━━━━━\u001b[0m \u001b[32m7.4/7.4 MB\u001b[0m \u001b[31m19.7 MB/s\u001b[0m eta \u001b[36m0:00:00\u001b[0m\n",
            "\u001b[?25h  Preparing metadata (setup.py) ... \u001b[?25l\u001b[?25hdone\n",
            "Requirement already satisfied: python-dateutil>=2.5.3 in /usr/local/lib/python3.10/dist-packages (from newspaper3k) (2.8.2)\n",
            "Collecting tinysegmenter==0.3 (from newspaper3k)\n",
            "  Downloading tinysegmenter-0.3.tar.gz (16 kB)\n",
            "  Preparing metadata (setup.py) ... \u001b[?25l\u001b[?25hdone\n",
            "Requirement already satisfied: soupsieve>1.2 in /usr/local/lib/python3.10/dist-packages (from beautifulsoup4>=4.4.1->newspaper3k) (2.5)\n",
            "Requirement already satisfied: six in /usr/local/lib/python3.10/dist-packages (from feedfinder2>=0.0.4->newspaper3k) (1.16.0)\n",
            "Requirement already satisfied: sgmllib3k in /usr/local/lib/python3.10/dist-packages (from feedparser>=5.2.1->newspaper3k) (1.0.0)\n",
            "Requirement already satisfied: click in /usr/local/lib/python3.10/dist-packages (from nltk>=3.2.1->newspaper3k) (8.1.7)\n",
            "Requirement already satisfied: joblib in /usr/local/lib/python3.10/dist-packages (from nltk>=3.2.1->newspaper3k) (1.3.2)\n",
            "Requirement already satisfied: regex>=2021.8.3 in /usr/local/lib/python3.10/dist-packages (from nltk>=3.2.1->newspaper3k) (2023.6.3)\n",
            "Requirement already satisfied: tqdm in /usr/local/lib/python3.10/dist-packages (from nltk>=3.2.1->newspaper3k) (4.66.1)\n",
            "Requirement already satisfied: charset-normalizer<4,>=2 in /usr/local/lib/python3.10/dist-packages (from requests>=2.10.0->newspaper3k) (3.2.0)\n",
            "Requirement already satisfied: idna<4,>=2.5 in /usr/local/lib/python3.10/dist-packages (from requests>=2.10.0->newspaper3k) (3.4)\n",
            "Requirement already satisfied: urllib3<3,>=1.21.1 in /usr/local/lib/python3.10/dist-packages (from requests>=2.10.0->newspaper3k) (2.0.5)\n",
            "Requirement already satisfied: certifi>=2017.4.17 in /usr/local/lib/python3.10/dist-packages (from requests>=2.10.0->newspaper3k) (2023.7.22)\n",
            "Collecting requests-file>=1.4 (from tldextract>=2.0.1->newspaper3k)\n",
            "  Downloading requests_file-1.5.1-py2.py3-none-any.whl (3.7 kB)\n",
            "Requirement already satisfied: filelock>=3.0.8 in /usr/local/lib/python3.10/dist-packages (from tldextract>=2.0.1->newspaper3k) (3.12.4)\n",
            "Building wheels for collected packages: tinysegmenter, feedfinder2, jieba3k\n",
            "  Building wheel for tinysegmenter (setup.py) ... \u001b[?25l\u001b[?25hdone\n",
            "  Created wheel for tinysegmenter: filename=tinysegmenter-0.3-py3-none-any.whl size=13541 sha256=4072fde09ad4e6ba9329593433ab4664dc4328248eca76ab11193d1712c634b4\n",
            "  Stored in directory: /root/.cache/pip/wheels/c8/d6/6c/384f58df48c00b9a31d638005143b5b3ac62c3d25fb1447f23\n",
            "  Building wheel for feedfinder2 (setup.py) ... \u001b[?25l\u001b[?25hdone\n",
            "  Created wheel for feedfinder2: filename=feedfinder2-0.0.4-py3-none-any.whl size=3339 sha256=cf231e08906179c4888510819c200cc0b64d727854b1b5de99b66f9adc0fa36f\n",
            "  Stored in directory: /root/.cache/pip/wheels/97/02/e7/a1ff1760e12bdbaab0ac824fae5c1bc933e41c4ccd6a8f8edb\n",
            "  Building wheel for jieba3k (setup.py) ... \u001b[?25l\u001b[?25hdone\n",
            "  Created wheel for jieba3k: filename=jieba3k-0.35.1-py3-none-any.whl size=7398380 sha256=ecd6ec7524e592d1b812c245885c8ab3ee4cb902b60dfaae7440572c535e8f72\n",
            "  Stored in directory: /root/.cache/pip/wheels/7a/c4/0c/12a9a314ecac499456c4c3b2fcc2f635a3b45a39dfbd240299\n",
            "Successfully built tinysegmenter feedfinder2 jieba3k\n",
            "Installing collected packages: tinysegmenter, jieba3k, cssselect, requests-file, feedfinder2, tldextract, newspaper3k\n",
            "Successfully installed cssselect-1.2.0 feedfinder2-0.0.4 jieba3k-0.35.1 newspaper3k-0.2.8 requests-file-1.5.1 tinysegmenter-0.3 tldextract-3.6.0\n",
            "Collecting konlpy\n",
            "  Downloading konlpy-0.6.0-py2.py3-none-any.whl (19.4 MB)\n",
            "\u001b[2K     \u001b[90m━━━━━━━━━━━━━━━━━━━━━━━━━━━━━━━━━━━━━━━━\u001b[0m \u001b[32m19.4/19.4 MB\u001b[0m \u001b[31m56.2 MB/s\u001b[0m eta \u001b[36m0:00:00\u001b[0m\n",
            "\u001b[?25hCollecting JPype1>=0.7.0 (from konlpy)\n",
            "  Downloading JPype1-1.4.1-cp310-cp310-manylinux_2_12_x86_64.manylinux2010_x86_64.whl (465 kB)\n",
            "\u001b[2K     \u001b[90m━━━━━━━━━━━━━━━━━━━━━━━━━━━━━━━━━━━━━━\u001b[0m \u001b[32m465.3/465.3 kB\u001b[0m \u001b[31m35.5 MB/s\u001b[0m eta \u001b[36m0:00:00\u001b[0m\n",
            "\u001b[?25hRequirement already satisfied: lxml>=4.1.0 in /usr/local/lib/python3.10/dist-packages (from konlpy) (4.9.3)\n",
            "Requirement already satisfied: numpy>=1.6 in /usr/local/lib/python3.10/dist-packages (from konlpy) (1.23.5)\n",
            "Requirement already satisfied: packaging in /usr/local/lib/python3.10/dist-packages (from JPype1>=0.7.0->konlpy) (23.1)\n",
            "Installing collected packages: JPype1, konlpy\n",
            "Successfully installed JPype1-1.4.1 konlpy-0.6.0\n"
          ]
        }
      ],
      "source": [
        "!pip install feedparser         # xml 링크에 있는 데이터 전부 가져옴 / RSS에서 xml 태그별 정보 추출(예: title, link, author...)\n",
        "!pip install newspaper3k        # 인터넷 신문기사 분석(아래 'Article()'을 사용하기 위함)\n",
        "!pip install konlpy             # 한국어에서 명사만 추출 / 한국어 형태소 분석기(주어진 문장에서 명사만 추출)\n",
        "import feedparser               # !pip install feedparser\n",
        "from newspaper import Article   # 신문기사를 타고 들어가서 제목 내용을 가져오게 함 / !pip install newspaper3k\n",
        "from konlpy.tag import Okt      # 명사, 형용사, 관사 등등 뽑아냄 / !pip install konlpy\n",
        "from collections import Counter # 몇개의 명사가 있는지 개수를 세는 함수 / 명사 추출 후에 본문에 몇 번 나오는지 확인(TF 계산용)\n",
        "from operator import eq         # 검색어에 있는 명사가 본문에 있는지 확인 / 동일한 단어인지 여부 판단\n",
        "from bs4 import BeautifulSoup   # 파싱해왔을 때 본문에 있는 html 태그 제거 / 글에 존재할지 모르는 html 태그 삭제"
      ]
    },
    {
      "cell_type": "code",
      "source": [
        "## [1] 모든 RSS파일(xml형식)을 돌아다니며 기사의 제목과 link를 추출함\n",
        "# urls는 우리가 검색할 RSS의 목록을 list로 만든\n",
        "urls=[\"http://rss.etnews.com/Section901.xml\",\n",
        "      \"http://rss.etnews.com/Section902.xml\",\n",
        "      \"http://rss.etnews.com/Section903.xml\",\n",
        "      \"http://rss.etnews.com/Section904.xml\"]\n",
        "\n",
        "# 아래 함수는 RSS 목록의 list 안에 존재하는 모든 기사의 title, link를 list로 구성\n",
        "def crawl_rss(ulrs):\n",
        "    array_rss = []      # 함수가 시작하는 시점에 생성되는 빈 리스트. 여기에 모든 기사를 저장\n",
        "    titles_rss = set()  # '중복 기사 제거' : 기사 제목들의 집합을 구성함. 집합은 중복을 불허하기 때문에 중복 기사가 제거됨\n",
        "\n",
        "    for url in urls:    # 4개의 RSS 파일을 하나씩 방문(4번 돌것임(901,902,903,904))\n",
        "        print(\"[Crawl Rss]\", url)         # 현재 어디에 있는지 출력\n",
        "        parse_rss = feedparser.parse(url) # 현재 url을 파싱해서 그 결과를 parse_rss에 저장\n",
        "        for p in parse_rss.entries:       # 현재 parse_rss에 있는 모든 entires/기사를 검색\n",
        "            if p.title not in titles_rss: # '중복기사 제거' : 만약 titles_rss 안에 동일한 제목이 없다면 리스트에 추가\n",
        "                array_rss.append({'title':p.title, 'link':p.link}) # 기사에서 제목/link 추출 후 리스트에 추가 : 전체 본문을 가져오기 위해 link를 가져옴\n",
        "                titles_rss.add(p.title)                             # '중복기사 제거' : 집합에 현재 기사 제목이 없을 때만 추\n",
        "            else:\n",
        "                print(\"Duplicated Title:\", p.title)\n",
        "    return array_rss\n",
        "\n",
        "list_articles = crawl_rss(urls)\n",
        "print(list_articles)"
      ],
      "metadata": {
        "colab": {
          "base_uri": "https://localhost:8080/"
        },
        "id": "IYaY9vVz4i0q",
        "outputId": "a443a142-cc95-480b-8ed2-bf7555519e1a"
      },
      "execution_count": 2,
      "outputs": [
        {
          "output_type": "stream",
          "name": "stdout",
          "text": [
            "[Crawl Rss] http://rss.etnews.com/Section901.xml\n",
            "[Crawl Rss] http://rss.etnews.com/Section902.xml\n",
            "Duplicated Title: 아이파트너즈, 혁신 스타트업 유럽 진출 지원 시동\n",
            "[Crawl Rss] http://rss.etnews.com/Section903.xml\n",
            "Duplicated Title: 아이폰15 시리즈, 품귀현상 나타날 것으로 전망\n",
            "Duplicated Title: 칼부림부터 학교폭력 대응까지…다재다능한 지능형 CCTV 주목\n",
            "Duplicated Title: 토요타 HEV 마지막 퍼즐 '신형 프리우스' 연말 韓 상륙\n",
            "[Crawl Rss] http://rss.etnews.com/Section904.xml\n",
            "Duplicated Title: 아이파트너즈, 혁신 스타트업 유럽 진출 지원 시동\n",
            "Duplicated Title: [미래 반도체 유니콘 열전]〈4〉퀄리타스반도체, 대규모 R&D로 '글로벌 인터커넥트 IP 기업' 도전\n",
            "Duplicated Title: 사공민 GS리테일 점포운영지원실장 “중기·점주 협업, 친환경 편의점 시대 연다”\n",
            "Duplicated Title: 제주삼다수, 먹는샘물 25년간 부동의 1위 비결은\n",
            "Duplicated Title: [단독] 수자원공사 해외투자 난관…'원금 회수' 적신호\n",
            "Duplicated Title: 산업부, '무역·기술 안보 종합전략' 세운다…연내 포럼 구성\n",
            "Duplicated Title: '100경분의 1초' 빛으로 '전자의 세계' 연 과학자들 노벨 물리학상 수상\n",
            "Duplicated Title: 정부, 디플정 마중물 '전자정부 클라우드 플랫폼' 구축 착수\n",
            "Duplicated Title: [에듀플러스]“특성화고, 신산업·신기술 분야에 맞춘 학과 개편 활발…지난 7년간 372개교 902개과 학과 개편”\n",
            "Duplicated Title: [에듀플러스]특성화고가 진화한다 “기업 협약형 특성화고 설립하고 서울형 마이스터고 전환…취업 품질 높이고 대학 진학도 고려”\n",
            "Duplicated Title: 일본·프랑스 넘어 UAE·네덜란드까지 글로벌 오픈이노베이션 본격화\n",
            "Duplicated Title: 자율주행로봇 시대 눈앞…업계 배송 서비스 마련에 한창\n",
            "Duplicated Title: 유유제약, '2023 CPHI' 첫 참가…안구건조증 실패 딛고 글로벌 네트워크 구축 집중\n",
            "Duplicated Title: 토요타 HEV 마지막 퍼즐 '신형 프리우스' 연말 韓 상륙\n",
            "Duplicated Title: LG유플러스 아이들나라, 킬러콘텐츠 '책'…213만권 돌파\n",
            "Duplicated Title: 문체위, 정치 공방 예고에 게임·콘텐츠 현안 뒷전 우려\n",
            "Duplicated Title: 홍익표 “尹 정부와 여당은 한심… 민생위기로 국민은 한숨”\n",
            "Duplicated Title: 소상공인 80% “韓 경제 작년보다 나빠져”\n",
            "Duplicated Title: [에듀플러스]선배에게 듣는 진학상담〈26〉성균관대 컴퓨터교육과, “전국 정보교사 임용률 최고, 서울·경기권 교사 활동…IT대기업 진출도 활발”\n",
            "Duplicated Title: [에듀플러스] 의약·자연계열 분석〈4〉한의대, 경희·부산대 등 12개대 757명 선발…합격선 의·치대 다음, 지방권 수시 대부분 지역인재 선발\n",
            "Duplicated Title: AI 활용 의료영상 분석기술 급성장…세계 특허출원 10년간 연평균 54.7% 증가\n",
            "Duplicated Title: '박카스의 아버지' 강신호 명예회장 별세\n",
            "Duplicated Title: 총수 지분 3.6%로 기업 지배 여전…사익편취 규제대상도 늘어\n",
            "Duplicated Title: [에듀플러스] 양영재단·삼양그룹 미래 과학 캠프, 11월 4~5일 개최 …대전 초등 5~6학년 대상 무료, 이티에듀 접수 가능\n",
            "Duplicated Title: [에듀플러스]이공계 진로 특강〈2〉 슈퍼컴퓨터 활용한 공학 시뮬레이션 “디지털 트윈 시대 적합한 직업 찾으려면 과학·공학 꾸준히 공부”\n",
            "Duplicated Title: [에듀플러스] SW중심대학을 만나다 ⑦이석환 동아대 SW중심대학단장 “지역사회 협업, 부산 SW생태계 선순환 마련…SW인재 2만명 양성”\n",
            "Duplicated Title: 아이폰15 시리즈, 품귀현상 나타날 것으로 전망\n",
            "Duplicated Title: 칼부림부터 학교폭력 대응까지…다재다능한 지능형 CCTV 주목\n",
            "Duplicated Title: 이통사 '폐쇄형 커머스' 본궤도…빅데이터·AI로 맞춤 판매\n",
            "Duplicated Title: 리비안, 3분기 전기차 1만5000여대 인도…기대치 웃돌아\n",
            "[{'title': '아이파트너즈, 혁신 스타트업 유럽 진출 지원 시동', 'link': 'https://www.etnews.com/20231004000053'}, {'title': \"[미래 반도체 유니콘 열전]〈4〉퀄리타스반도체, 대규모 R&D로 '글로벌 인터커넥트 IP 기업' 도전\", 'link': 'https://www.etnews.com/20231003000006'}, {'title': '사공민 GS리테일 점포운영지원실장 “중기·점주 협업, 친환경 편의점 시대 연다”', 'link': 'https://www.etnews.com/20230927000112'}, {'title': '제주삼다수, 먹는샘물 25년간 부동의 1위 비결은', 'link': 'https://www.etnews.com/20231004000004'}, {'title': \"[단독] 수자원공사 해외투자 난관…'원금 회수' 적신호\", 'link': 'https://www.etnews.com/20231004000003'}, {'title': \"산업부, '무역·기술 안보 종합전략' 세운다…연내 포럼 구성\", 'link': 'https://www.etnews.com/20231004000002'}, {'title': \"'100경분의 1초' 빛으로 '전자의 세계' 연 과학자들 노벨 물리학상 수상\", 'link': 'https://www.etnews.com/20231003000103'}, {'title': \"정부, 디플정 마중물 '전자정부 클라우드 플랫폼' 구축 착수\", 'link': 'https://www.etnews.com/20230926000252'}, {'title': '[에듀플러스]“특성화고, 신산업·신기술 분야에 맞춘 학과 개편 활발…지난 7년간 372개교 902개과 학과 개편”', 'link': 'https://www.etnews.com/20231002000054'}, {'title': '[에듀플러스]특성화고가 진화한다 “기업 협약형 특성화고 설립하고 서울형 마이스터고 전환…취업 품질 높이고 대학 진학도 고려”', 'link': 'https://www.etnews.com/20231002000053'}, {'title': '일본·프랑스 넘어 UAE·네덜란드까지 글로벌 오픈이노베이션 본격화', 'link': 'https://www.etnews.com/20230926000326'}, {'title': '자율주행로봇 시대 눈앞…업계 배송 서비스 마련에 한창', 'link': 'https://www.etnews.com/20230926000306'}, {'title': \"유유제약, '2023 CPHI' 첫 참가…안구건조증 실패 딛고 글로벌 네트워크 구축 집중\", 'link': 'https://www.etnews.com/20230926000298'}, {'title': \"토요타 HEV 마지막 퍼즐 '신형 프리우스' 연말 韓 상륙\", 'link': 'https://www.etnews.com/20231003000057'}, {'title': \"LG유플러스 아이들나라, 킬러콘텐츠 '책'…213만권 돌파\", 'link': 'https://www.etnews.com/20231003000019'}, {'title': '문체위, 정치 공방 예고에 게임·콘텐츠 현안 뒷전 우려', 'link': 'https://www.etnews.com/20231003000017'}, {'title': '홍익표 “尹 정부와 여당은 한심… 민생위기로 국민은 한숨”', 'link': 'https://www.etnews.com/20231003000087'}, {'title': '소상공인 80% “韓 경제 작년보다 나빠져”', 'link': 'https://www.etnews.com/20231003000085'}, {'title': '[에듀플러스]선배에게 듣는 진학상담〈26〉성균관대 컴퓨터교육과, “전국 정보교사 임용률 최고, 서울·경기권 교사 활동…IT대기업 진출도 활발”', 'link': 'https://www.etnews.com/20231002000050'}, {'title': '[에듀플러스] 의약·자연계열 분석〈4〉한의대, 경희·부산대 등 12개대 757명 선발…합격선 의·치대 다음, 지방권 수시 대부분 지역인재 선발', 'link': 'https://www.etnews.com/20231002000047'}, {'title': 'AI 활용 의료영상 분석기술 급성장…세계 특허출원 10년간 연평균 54.7% 증가', 'link': 'https://www.etnews.com/20230927000041'}, {'title': \"'박카스의 아버지' 강신호 명예회장 별세\", 'link': 'https://www.etnews.com/20231003000077'}, {'title': '총수 지분 3.6%로 기업 지배 여전…사익편취 규제대상도 늘어', 'link': 'https://www.etnews.com/20231003000056'}, {'title': '[에듀플러스] 양영재단·삼양그룹 미래 과학 캠프, 11월 4~5일 개최 …대전 초등 5~6학년 대상 무료, 이티에듀 접수 가능', 'link': 'https://www.etnews.com/20231002000058'}, {'title': '[에듀플러스]이공계 진로 특강〈2〉 슈퍼컴퓨터 활용한 공학 시뮬레이션 “디지털 트윈 시대 적합한 직업 찾으려면 과학·공학 꾸준히 공부”', 'link': 'https://www.etnews.com/20231002000057'}, {'title': '[에듀플러스] SW중심대학을 만나다 ⑦이석환 동아대 SW중심대학단장 “지역사회 협업, 부산 SW생태계 선순환 마련…SW인재 2만명 양성”', 'link': 'https://www.etnews.com/20231002000056'}, {'title': '아이폰15 시리즈, 품귀현상 나타날 것으로 전망', 'link': 'https://www.etnews.com/20231003000062'}, {'title': '칼부림부터 학교폭력 대응까지…다재다능한 지능형 CCTV 주목', 'link': 'https://www.etnews.com/20231003000060'}, {'title': \"이통사 '폐쇄형 커머스' 본궤도…빅데이터·AI로 맞춤 판매\", 'link': 'https://www.etnews.com/20231003000055'}, {'title': '리비안, 3분기 전기차 1만5000여대 인도…기대치 웃돌아', 'link': 'https://www.etnews.com/20231003000054'}, {'title': '카카오뱅크, 전산시스템 정기 점검...15일 새벽 금융거래 일시 중단', 'link': 'https://www.etnews.com/20231004000061'}, {'title': \"콘티넨탈, 현대차 신형 코나에 'V자형 디스플레이' 공급\", 'link': 'https://www.etnews.com/20231004000060'}, {'title': \"코드넛-IBK기업은행, '경제 교육 교재' 이벤트 진행\", 'link': 'https://www.etnews.com/20231004000059'}, {'title': \"금융투자협회, '해외 부동산 투자 실무' 교육생 모집\", 'link': 'https://www.etnews.com/20231004000058'}, {'title': 'SK에코플랜트, 인천공항 폐기물로 석화원료·가스 생산', 'link': 'https://www.etnews.com/20231004000057'}, {'title': \"강성묵 하나증권 대표이사, '노 엑시트' 마약 예방 캠페인 동참\", 'link': 'https://www.etnews.com/20231004000056'}, {'title': '대한전선, 안마해상풍력 내부망 해저케이블 우선공급대상자 선정', 'link': 'https://www.etnews.com/20231004000055'}, {'title': \"한국거래소, 시카고 'FIA 선물·옵션 엑스포' 참가\", 'link': 'https://www.etnews.com/20231004000054'}, {'title': \"CU, 'The건강식단' 건강 간편식 8종 선봬… '채식·나트륨 저감식까지 확장'\", 'link': 'https://www.etnews.com/20231004000052'}, {'title': \"아주대병원, 호산구성 중증 천식, 'T\\xad세포 이중항체'로 치료\", 'link': 'https://www.etnews.com/20231004000051'}, {'title': '한화오션, 무인 잠수정용 에너지원 시스템 개발 착수', 'link': 'https://www.etnews.com/20231004000050'}, {'title': \"현대리바트, 프리미엄 라인 '마이스터 컬렉션' 선봬…“브랜드 고급화 승부수”\", 'link': 'https://www.etnews.com/20231004000049'}, {'title': \"원스피리츠, '원소주 오리지널 한글날 한정판' 출시\", 'link': 'https://www.etnews.com/20231004000048'}, {'title': '오비맥주, 카스·한맥 등 맥주 출고가 6.9% 인상', 'link': 'https://www.etnews.com/20231004000045'}, {'title': \"CJ온스타일, 하반기 최대 혜택 '컴온스타일' 개최\", 'link': 'https://www.etnews.com/20231004000044'}, {'title': \"르세라핌, 22주째 美 빌보드 차트인…인기롱런 'UNFORGIVEN'\", 'link': 'https://www.etnews.com/20231004000043'}, {'title': \"온앤오프, 금일 '러브 이펙트' 컴백…업그레이드 청량감성 컴백\", 'link': 'https://www.etnews.com/20231004000042'}, {'title': \"지수 '꽃' 뮤비, 4억뷰 돌파…블랙핑크 통산 18번째\", 'link': 'https://www.etnews.com/20231004000041'}, {'title': '재허가 IPTV 3사 “콘텐츠 사업자와 상생 발전 노력”', 'link': 'https://www.etnews.com/20231004000040'}, {'title': \"11번가, 전상품 무료 배송 '9900원샵' 오픈…“고물가 맞춤형 전문관”\", 'link': 'https://www.etnews.com/20231004000039'}, {'title': '[ET라씨로] 한싹, 상장 첫날 170%↑', 'link': 'https://www.etnews.com/20231004000038'}, {'title': \"비씨카드, '카드결제 연계형' NFT 발행 서비스 론칭\", 'link': 'https://www.etnews.com/20231004000037'}, {'title': '창립 99돌 맞은 삼양그룹...“글로벌 스페셜티 기업 도약”', 'link': 'https://www.etnews.com/20231004000035'}, {'title': \"한샘, 온라인 생활용품 전문관 '한샘리빙' 오픈\", 'link': 'https://www.etnews.com/20231004000034'}, {'title': \"KT AI 보이스, '곰믹스 맥스'에서 바로 쓴다\", 'link': 'https://www.etnews.com/20231004000033'}, {'title': \"e커머스, 가을 프로모션 개시…'포스트 추석' 공략\", 'link': 'https://www.etnews.com/20231004000031'}, {'title': '[오늘 날씨] 대체로 맑은 가운데 오후 흐림…갑작스런 비 조심하세요!', 'link': 'https://www.etnews.com/20231004000030'}, {'title': '서울 광진구, 고위험군 대상 인플루엔자 무료 예방접종', 'link': 'https://www.etnews.com/20231004000029'}, {'title': '경북도, 내년 첨단기술기반 지역혁신 선도신규사업 22개 과제 추진', 'link': 'https://www.etnews.com/20231004000028'}, {'title': \"대 이은 '무자원 산유국' 뚝심…SK, 해외자원개발 '새역사' 썼다\", 'link': 'https://www.etnews.com/20231002000004'}, {'title': \"이재용 회장, 명절 현장경영 10년...올 추석엔 '중동 3개국'\", 'link': 'https://www.etnews.com/20231002000022'}, {'title': '대한민국 팀 LoL 금메달, 항저우 아시안게임 e스포츠 금메달 행진', 'link': 'https://www.etnews.com/20230930000215'}, {'title': '현대차·기아, 상반기 신차 판매량 1위는 미국', 'link': 'https://www.etnews.com/20231002000027'}, {'title': \"'질병' 취급받던 게임, 아시안게임 e스포츠 메달 행진... 정치권 반색\", 'link': 'https://www.etnews.com/20231001000090'}, {'title': '“가을 캠핑족 잡아라”... 간편·휴대성 갖춘 HMR 인기', 'link': 'https://www.etnews.com/20231001000089'}, {'title': '일본, 맥주 수입국 1위 재탈환...238% 급증', 'link': 'https://www.etnews.com/20231002000007'}, {'title': '급증하는 전력수요…100GW 넘어 2039년엔 150GW', 'link': 'https://www.etnews.com/20231002000001'}, {'title': '美, 반도체 투자 3억달러 미만 기업도 지원금…산업부 “韓 기업 지원”', 'link': 'https://www.etnews.com/20230930000218'}, {'title': '韓 디지털 인프라… OECD 선두 입증', 'link': 'https://www.etnews.com/20231003000013'}, {'title': '프랑스, 전자파위험 아이폰12 사용 허용', 'link': 'https://www.etnews.com/20230930000013'}, {'title': '억대 소득자 143만명, 1년간 23만명 증가', 'link': 'https://www.etnews.com/20231001000020'}, {'title': \"“'김정은 방러결과' 파일 열었다간”…北해킹조직, 정치·사회적 이슈 공격\", 'link': 'https://www.etnews.com/20231001000005'}, {'title': \"“내가 투자한 기업도?”…황금연휴 '올빼미 공시' 4일 재공지된다\", 'link': 'https://www.etnews.com/20230930000032'}, {'title': \"메타에 '매일 1억' 벌금 부과한 노르웨이…EU 전역 확대하나\", 'link': 'https://www.etnews.com/20230930000031'}, {'title': '日, 기업 주도 전기차 중고 배터리 시장 만든다', 'link': 'https://www.etnews.com/20231001000167'}, {'title': '[인터뷰]마이클 비셔 미국 노터데임대 교수, “중이온가속기 인상적...향후 안정된 예산확보로 잘 운영되길”', 'link': 'https://www.etnews.com/20230927000060'}]\n"
          ]
        }
      ]
    },
    {
      "cell_type": "code",
      "source": [
        "## [2] list에 존재하는 모든 링크를 돌아다니며 본문 txt를 추출\n",
        "\n",
        "# 아래 함수는 하나의 url을 입력받아서, 링크를 타고 들어가, 그 안에 title과 text를 추출한다.\n",
        "# 디폴트는 한글로 지정한다.\n",
        "def crawl_article(url, language='ko'):\n",
        "    print(\"[Crawl Article]\", url)       # 현재 title과 text를 추출한 url을 프린트\n",
        "    a = Article(url, languate=language) # Article을 사용하여 그 URL을 입력하고, 언어옵션 지정 후 a에 저장\n",
        "    a.download()   # a에 해당하는 url 기사 다운로드\n",
        "    a.parse()      # a에 해당하는 url 기사 분석(xml tag별로 내용을 분류함)\n",
        "    return a.title, preprocessing(a.text)      # a에 해당하는 title과 본문(불용어 제거) 출력\n",
        "\n",
        "def preprocessing(text):\n",
        "    text_article = BeautifulSoup(text, 'html5lib').get_text() # html 태그 제거\n",
        "    return text_article\n",
        "\n",
        "for article in list_articles:   # list에 있는 모든 기사를 하나씩 방문\n",
        "    _, text = crawl_article(article['link'])  # 그 기사의 link를 crawl_article 함수에 넣어 본문 추출\n",
        "    article['text'] = text      # 추출된 본문을 list_articles에 'text'라는 속성을 새로 만들어 저장"
      ],
      "metadata": {
        "colab": {
          "base_uri": "https://localhost:8080/"
        },
        "id": "194RKm-c4jJg",
        "outputId": "c4027612-c50f-43e8-8310-5528c17061e5"
      },
      "execution_count": 3,
      "outputs": [
        {
          "output_type": "stream",
          "name": "stdout",
          "text": [
            "[Crawl Article] https://www.etnews.com/20231004000053\n",
            "[Crawl Article] https://www.etnews.com/20231003000006\n",
            "[Crawl Article] https://www.etnews.com/20230927000112\n",
            "[Crawl Article] https://www.etnews.com/20231004000004\n",
            "[Crawl Article] https://www.etnews.com/20231004000003\n",
            "[Crawl Article] https://www.etnews.com/20231004000002\n",
            "[Crawl Article] https://www.etnews.com/20231003000103\n",
            "[Crawl Article] https://www.etnews.com/20230926000252\n",
            "[Crawl Article] https://www.etnews.com/20231002000054\n",
            "[Crawl Article] https://www.etnews.com/20231002000053\n",
            "[Crawl Article] https://www.etnews.com/20230926000326\n",
            "[Crawl Article] https://www.etnews.com/20230926000306\n",
            "[Crawl Article] https://www.etnews.com/20230926000298\n",
            "[Crawl Article] https://www.etnews.com/20231003000057\n",
            "[Crawl Article] https://www.etnews.com/20231003000019\n",
            "[Crawl Article] https://www.etnews.com/20231003000017\n",
            "[Crawl Article] https://www.etnews.com/20231003000087\n",
            "[Crawl Article] https://www.etnews.com/20231003000085\n",
            "[Crawl Article] https://www.etnews.com/20231002000050\n",
            "[Crawl Article] https://www.etnews.com/20231002000047\n",
            "[Crawl Article] https://www.etnews.com/20230927000041\n",
            "[Crawl Article] https://www.etnews.com/20231003000077\n",
            "[Crawl Article] https://www.etnews.com/20231003000056\n",
            "[Crawl Article] https://www.etnews.com/20231002000058\n",
            "[Crawl Article] https://www.etnews.com/20231002000057\n",
            "[Crawl Article] https://www.etnews.com/20231002000056\n",
            "[Crawl Article] https://www.etnews.com/20231003000062\n",
            "[Crawl Article] https://www.etnews.com/20231003000060\n",
            "[Crawl Article] https://www.etnews.com/20231003000055\n",
            "[Crawl Article] https://www.etnews.com/20231003000054\n",
            "[Crawl Article] https://www.etnews.com/20231004000061\n",
            "[Crawl Article] https://www.etnews.com/20231004000060\n",
            "[Crawl Article] https://www.etnews.com/20231004000059\n",
            "[Crawl Article] https://www.etnews.com/20231004000058\n",
            "[Crawl Article] https://www.etnews.com/20231004000057\n",
            "[Crawl Article] https://www.etnews.com/20231004000056\n",
            "[Crawl Article] https://www.etnews.com/20231004000055\n",
            "[Crawl Article] https://www.etnews.com/20231004000054\n",
            "[Crawl Article] https://www.etnews.com/20231004000052\n",
            "[Crawl Article] https://www.etnews.com/20231004000051\n",
            "[Crawl Article] https://www.etnews.com/20231004000050\n",
            "[Crawl Article] https://www.etnews.com/20231004000049\n",
            "[Crawl Article] https://www.etnews.com/20231004000048\n",
            "[Crawl Article] https://www.etnews.com/20231004000045\n",
            "[Crawl Article] https://www.etnews.com/20231004000044\n",
            "[Crawl Article] https://www.etnews.com/20231004000043\n",
            "[Crawl Article] https://www.etnews.com/20231004000042\n",
            "[Crawl Article] https://www.etnews.com/20231004000041\n",
            "[Crawl Article] https://www.etnews.com/20231004000040\n",
            "[Crawl Article] https://www.etnews.com/20231004000039\n",
            "[Crawl Article] https://www.etnews.com/20231004000038\n",
            "[Crawl Article] https://www.etnews.com/20231004000037\n",
            "[Crawl Article] https://www.etnews.com/20231004000035\n",
            "[Crawl Article] https://www.etnews.com/20231004000034\n",
            "[Crawl Article] https://www.etnews.com/20231004000033\n",
            "[Crawl Article] https://www.etnews.com/20231004000031\n",
            "[Crawl Article] https://www.etnews.com/20231004000030\n",
            "[Crawl Article] https://www.etnews.com/20231004000029\n",
            "[Crawl Article] https://www.etnews.com/20231004000028\n",
            "[Crawl Article] https://www.etnews.com/20231002000004\n",
            "[Crawl Article] https://www.etnews.com/20231002000022\n",
            "[Crawl Article] https://www.etnews.com/20230930000215\n",
            "[Crawl Article] https://www.etnews.com/20231002000027\n",
            "[Crawl Article] https://www.etnews.com/20231001000090\n",
            "[Crawl Article] https://www.etnews.com/20231001000089\n",
            "[Crawl Article] https://www.etnews.com/20231002000007\n",
            "[Crawl Article] https://www.etnews.com/20231002000001\n",
            "[Crawl Article] https://www.etnews.com/20230930000218\n",
            "[Crawl Article] https://www.etnews.com/20231003000013\n",
            "[Crawl Article] https://www.etnews.com/20230930000013\n",
            "[Crawl Article] https://www.etnews.com/20231001000020\n",
            "[Crawl Article] https://www.etnews.com/20231001000005\n",
            "[Crawl Article] https://www.etnews.com/20230930000032\n",
            "[Crawl Article] https://www.etnews.com/20230930000031\n",
            "[Crawl Article] https://www.etnews.com/20231001000167\n",
            "[Crawl Article] https://www.etnews.com/20230927000060\n"
          ]
        }
      ]
    },
    {
      "cell_type": "code",
      "source": [
        "print(list_articles[0])  # 첫번째 기사를 출력(title, link, text가 모두 나오는 것을 확인)"
      ],
      "metadata": {
        "colab": {
          "base_uri": "https://localhost:8080/"
        },
        "id": "A_YFyzQhCVp-",
        "outputId": "58cb8ea3-666c-4ab6-c83e-cafb206f9501"
      },
      "execution_count": 4,
      "outputs": [
        {
          "output_type": "stream",
          "name": "stdout",
          "text": [
            "{'title': '아이파트너즈, 혁신 스타트업 유럽 진출 지원 시동', 'link': 'https://www.etnews.com/20231004000053', 'text': \"액셀러레이팅 전문기업 아이파트너즈가 국내 유망 스타트업에 유럽 진출 지원 프로그램을 제공한다.\\n\\n\\n\\n아이파트너즈(대표 김태규)와 IBK창공은 지난달부터 해외 진출을 희망하는 국내 혁신·벤처 스타트업을 대상으로 'IBK창공 유럽 액셀러레이팅' 운영을 시작했다고 4일 밝혔다.\\n\\n\\n\\n'IBK창공 유럽 액셀러레이팅'은 IBK창공과 아이파트너즈, 연구개발특구진흥재단(강소특구)이 독일 잘란트주, 한국과학기술연구원(KIST) 유럽연구소와 협업해 만든 스타트업 유럽진출 지원 프로그램이다.\\n\\n\\n\\n국내에서 선발한 유망 혁신 스타트업을 독일 잘란트주와 KIST 유럽연구소가 운영하는 스타트업 육성 인프라 'EU허브'에 보내 현지거점 마련을 비롯해 단계적으로 유럽 진출에 필요한 다양한 요소를 발굴, 지원한다.\\n\\n\\n\\n아이파트너즈와 IBK창공은 인공지능(AI), 빅데이터 등 정보통신기술(ICT)과 첨단제조, 바이오 등 혁신 분야 스타트업 11개사를 선발해 지난달 18~22일까지 5일 동안 1차 유럽 액셀러레이팅을 진행했다.\\n\\n\\n\\n임팩티브에이아이, 맵시, 원더무브 등 11개 스타트업 대표들은 국내에서 2주 동안 아이템 집중 진단, 현지화 전략 등 사전 컨설팅을 받고, 이어 독일로 건너가 잘란트주 EU허브에서 유럽 투자자를 대상으로 투자유치 IR, 데모데이 등 유럽 액셀러레이팅 프로그램에 참가했다.\\n\\n\\n\\n이 가운데 두개 스타트업은 유럽 연락사무소 및 법인 설립을 검토하기로 했고, 스타트업 한 곳은 잘란트주 대학과 자사제품 공급계약을 체결했다.\\n\\n\\n\\n김태규 대표는 “이번 1차 프로그램 운영 성과를 토대로 내년 상반기에 2차 프로그램을 계획하고 있다”며 “국내 창업지원 육성 전문기관, 기존 유럽 진출 기업 및 현지 기관과 긴밀한 네트워크를 구축해 국내 유망 스타트업의 글로벌 진출 성공 모델을 만들겠다”고 말했다.\\n\\n\\n\\n아이파트너즈는 창업에서 창업 후 시드투자, 스케일업까지 스타트업 전주기 성장을 지원한다. 창업기업과 중소·중견기업 맞춤형 오픈이노베이션 플랫폼을 구축하고, 이를 기반으로 신기술 도입과 마케팅, 경영 컨설팅도 매칭하고 있다. 김 대표는 현재 독일 잘란트주 경제진흥공사 한국 대표를 겸임하고 있다.\\n\\n\\n\\n부산=임동식 기자 dslim@etnews.com\"}\n"
          ]
        }
      ]
    },
    {
      "cell_type": "code",
      "source": [
        "# feedparser:\n",
        "# 주로 피드로부터 제목, 링크, 요약과 같은 메타데이터를 추출합니다.\n",
        "# 주로 뉴스 헤드라인이나 블로그 게시물의 링크를 가져올 때 사용됩니다.\n",
        "# Article.parser:\n",
        "# 웹 페이지의 실제 본문 내용을 추출합니다.\n",
        "# 주로 기사 내용, 블로그 게시물 내용, 제품 설명 등 웹 페이지의 텍스트 콘텐츠를 가져올 때 사용됩니다."
      ],
      "metadata": {
        "id": "QNDtKGj2H440"
      },
      "execution_count": null,
      "outputs": []
    },
    {
      "cell_type": "code",
      "source": [
        "## [3] 모든 본문 text에서 명사 (키워드, 빈도수) 추출\n",
        "def get_keywords(text, nKeywords=10):   # 키워드 추출 함수, 디폴트로 10개 지정, 키워드로 10개 가져\n",
        "    spliter = Okt()              # konlpy에 의해서 문장을 형태소별로 쪼개는 기능을 위해 spliter 생성\n",
        "    nouns = spliter.nouns(text)  # spliter에 의해서 nouns함수를 불러 text를 넣으면 그 text의 명사만 추출 / 여러개의 명사를 뽑을 땐 nouns, 하나만 뽑을 땐 noun\n",
        "    count = Counter(nouns)       # 추출된 명사들의 출현빈도 추출\n",
        "    list_keywords = []           # 비어있는 키워드 리스트 생성\n",
        "\n",
        "    for n, c in count.most_common(nKeywords):  # 가장 출현빈도가 높은 명사부터 순차적으로 nKeywords 횟수만큼 출력\n",
        "        item = {'keyword':n, 'count':c}        # 리스트에 저장은 {'keyword', 'count'} 형식으로 저장\n",
        "        list_keywords.append(item)             # 이런 저장된 포켓으로 이를 list_keywords에 붙여 저장\n",
        "\n",
        "    return list_keywords\n",
        "\n",
        "for article in list_articles:    # 모든 기사를 돌아다니며 text에서 명사 추출, 키워드/빈도 추출\n",
        "    keywords = get_keywords(article['text'])  # get_keywords 함수로 키워드/빈도 추출\n",
        "    article['keywords'] = keywords             # 추출된 키워드/빈도를 list_articles의 'keywords'로 저장\n",
        "\n",
        "print(list_articles[0])          # 첫번째 기사 출력(title, link, text, keywords(키워드/빈도 최대 nKeywords 횟수))"
      ],
      "metadata": {
        "colab": {
          "base_uri": "https://localhost:8080/"
        },
        "id": "VKw-b6ZYMHVr",
        "outputId": "e130c5a1-bb75-4bab-a5f2-200e691e1e75"
      },
      "execution_count": 5,
      "outputs": [
        {
          "output_type": "stream",
          "name": "stdout",
          "text": [
            "{'title': '아이파트너즈, 혁신 스타트업 유럽 진출 지원 시동', 'link': 'https://www.etnews.com/20231004000053', 'text': \"액셀러레이팅 전문기업 아이파트너즈가 국내 유망 스타트업에 유럽 진출 지원 프로그램을 제공한다.\\n\\n\\n\\n아이파트너즈(대표 김태규)와 IBK창공은 지난달부터 해외 진출을 희망하는 국내 혁신·벤처 스타트업을 대상으로 'IBK창공 유럽 액셀러레이팅' 운영을 시작했다고 4일 밝혔다.\\n\\n\\n\\n'IBK창공 유럽 액셀러레이팅'은 IBK창공과 아이파트너즈, 연구개발특구진흥재단(강소특구)이 독일 잘란트주, 한국과학기술연구원(KIST) 유럽연구소와 협업해 만든 스타트업 유럽진출 지원 프로그램이다.\\n\\n\\n\\n국내에서 선발한 유망 혁신 스타트업을 독일 잘란트주와 KIST 유럽연구소가 운영하는 스타트업 육성 인프라 'EU허브'에 보내 현지거점 마련을 비롯해 단계적으로 유럽 진출에 필요한 다양한 요소를 발굴, 지원한다.\\n\\n\\n\\n아이파트너즈와 IBK창공은 인공지능(AI), 빅데이터 등 정보통신기술(ICT)과 첨단제조, 바이오 등 혁신 분야 스타트업 11개사를 선발해 지난달 18~22일까지 5일 동안 1차 유럽 액셀러레이팅을 진행했다.\\n\\n\\n\\n임팩티브에이아이, 맵시, 원더무브 등 11개 스타트업 대표들은 국내에서 2주 동안 아이템 집중 진단, 현지화 전략 등 사전 컨설팅을 받고, 이어 독일로 건너가 잘란트주 EU허브에서 유럽 투자자를 대상으로 투자유치 IR, 데모데이 등 유럽 액셀러레이팅 프로그램에 참가했다.\\n\\n\\n\\n이 가운데 두개 스타트업은 유럽 연락사무소 및 법인 설립을 검토하기로 했고, 스타트업 한 곳은 잘란트주 대학과 자사제품 공급계약을 체결했다.\\n\\n\\n\\n김태규 대표는 “이번 1차 프로그램 운영 성과를 토대로 내년 상반기에 2차 프로그램을 계획하고 있다”며 “국내 창업지원 육성 전문기관, 기존 유럽 진출 기업 및 현지 기관과 긴밀한 네트워크를 구축해 국내 유망 스타트업의 글로벌 진출 성공 모델을 만들겠다”고 말했다.\\n\\n\\n\\n아이파트너즈는 창업에서 창업 후 시드투자, 스케일업까지 스타트업 전주기 성장을 지원한다. 창업기업과 중소·중견기업 맞춤형 오픈이노베이션 플랫폼을 구축하고, 이를 기반으로 신기술 도입과 마케팅, 경영 컨설팅도 매칭하고 있다. 김 대표는 현재 독일 잘란트주 경제진흥공사 한국 대표를 겸임하고 있다.\\n\\n\\n\\n부산=임동식 기자 dslim@etnews.com\", 'keywords': [{'keyword': '유럽', 'count': 12}, {'keyword': '스타트업', 'count': 11}, {'keyword': '아이', 'count': 6}, {'keyword': '국내', 'count': 6}, {'keyword': '진출', 'count': 6}, {'keyword': '액', 'count': 5}, {'keyword': '셀러', 'count': 5}, {'keyword': '레이', 'count': 5}, {'keyword': '팅', 'count': 5}, {'keyword': '파트너', 'count': 5}]}\n"
          ]
        }
      ]
    },
    {
      "cell_type": "code",
      "source": [
        "import math"
      ],
      "metadata": {
        "id": "o_DO4ISrYcER"
      },
      "execution_count": 8,
      "outputs": []
    },
    {
      "cell_type": "code",
      "source": [
        "## [4] 검색어를 입력받아서 그 검색어를 가지고 있는 기사를 출력\n",
        "query = input() # 쿼리 입력받음\n",
        "\n",
        "# IDF 계산을 위한 함수\n",
        "def calculate_idf(query, list_articles):\n",
        "    doc_count = len(list_articles)\n",
        "    doc_containing_query = sum(1 for article in list_articles if search_articles(query, article['keywords']) > 0)\n",
        "    if doc_containing_query == 0:\n",
        "        return 0\n",
        "    return math.log(doc_count / doc_containing_query)\n",
        "\n",
        "# TF-IDF 계산 함수\n",
        "def calculate_tfidf(tf, idf):\n",
        "    return tf * idf\n",
        "\n",
        "# 빈도수에 따라 기사를 정렬하는 함수\n",
        "def sort_articles_by_frequency(articles):\n",
        "    return sorted(articles, key=lambda x: search_articles(query, x['keywords']), reverse=True)\n",
        "\n",
        "# 기사 리스트를 빈도수에 따라 정렬\n",
        "sorted_articles = sort_articles_by_frequency(list_articles)\n",
        "\n",
        "for article in sorted_articles:\n",
        "    nQuery = search_articles(query, article['keywords']) # TF 계산\n",
        "    nIDF = calculate_idf(query, sorted_articles)  # IDF 계산\n",
        "    nTFIDF = calculate_tfidf(nQuery, nIDF)  # TF-IDF 계산\n",
        "\n",
        "    if nQuery != 0:\n",
        "        print('[TF]', nQuery, '[IDF]', nIDF, '[TF-IDF]', nTFIDF, '[Title]', article['title'], '[url]', article['link'])\n",
        "\n",
        "\n",
        "\n",
        "# def search_articles(query, list_keywords):   # 쿼리가 키워드 리스트에 있으면 회수를 출력(없으면 0)\n",
        "#     nWords = 0    # 아래의 if문에 걸리지 않으면(즉 쿼리가 키워드에 없으면) 0을 출력하기 위함\n",
        "#     for kw in list_keywords:         # 키워드 리스트 검색\n",
        "#         if eq(query, kw['keyword']): # 쿼리와 동일한 키워드가 존재한다면    # eq 대신 == 사용 가능\n",
        "#             nWords = kw['count']     # 그 키워드에 해당하는 count가 nWords값이 됨\n",
        "#     return nWords # 결과적으로 쿼리의 출현 횟수를 출력\n",
        "\n",
        "# # 빈도수에 따라 기사를 정렬하는 함수\n",
        "# def sort_articles_by_frequency(articles):\n",
        "#     return sorted(articles, key=lambda x: search_articles(query, x['keywords']), reverse=True)\n",
        "\n",
        "# # 기사 리스트를 빈도수에 따라 정렬\n",
        "# sorted_articles = sort_articles_by_frequency(list_articles)\n",
        "\n",
        "# for article in sorted_articles:  # 모든 기사를 돌아다니며 입력받은 쿼리가 몇 번 나오나 검색\n",
        "#     nQuery = search_articles(query, article['keywords']) # search_articles 함수로 빈도수 추출\n",
        "#     if nQuery != 0:            # 쿼리가 키워드에 존재하지 않는 경우는 출력하지 않\n",
        "#         print('[TF]', nQuery, '[Title]', article['title'], '[url]', article['link'])"
      ],
      "metadata": {
        "colab": {
          "base_uri": "https://localhost:8080/"
        },
        "id": "kzaGzuIMVeaX",
        "outputId": "9458dbe4-3fa9-421e-d16e-a1107743f524"
      },
      "execution_count": 10,
      "outputs": [
        {
          "output_type": "stream",
          "name": "stdout",
          "text": [
            "반도체\n",
            "[TF] 17 [IDF] 3.2321210516182215 [TF-IDF] 54.946057877509766 [Title] [미래 반도체 유니콘 열전]〈4〉퀄리타스반도체, 대규모 R&D로 '글로벌 인터커넥트 IP 기업' 도전 [url] https://www.etnews.com/20231003000006\n",
            "[TF] 12 [IDF] 3.2321210516182215 [TF-IDF] 38.785452619418656 [Title] 美, 반도체 투자 3억달러 미만 기업도 지원금…산업부 “韓 기업 지원” [url] https://www.etnews.com/20230930000218\n",
            "[TF] 6 [IDF] 3.2321210516182215 [TF-IDF] 19.392726309709328 [Title] 산업부, '무역·기술 안보 종합전략' 세운다…연내 포럼 구성 [url] https://www.etnews.com/20231004000002\n"
          ]
        }
      ]
    }
  ]
}